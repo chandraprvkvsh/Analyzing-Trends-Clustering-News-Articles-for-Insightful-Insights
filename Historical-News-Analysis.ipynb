{
  "nbformat": 4,
  "nbformat_minor": 0,
  "metadata": {
    "kernelspec": {
      "name": "python3",
      "display_name": "Python 3"
    },
    "language_info": {
      "codemirror_mode": {
        "name": "ipython",
        "version": 3
      },
      "file_extension": ".py",
      "mimetype": "text/x-python",
      "name": "python",
      "nbconvert_exporter": "python",
      "pygments_lexer": "ipython3",
      "version": "3.7.6"
    },
    "colab": {
      "name": "Untitled.ipynb",
      "provenance": []
    },
    "accelerator": "TPU"
  },
  "cells": [
    {
      "cell_type": "code",
      "metadata": {
        "id": "-P02JHUYJaF6",
        "colab_type": "code",
        "colab": {
          "base_uri": "https://localhost:8080/",
          "height": 309
        },
        "outputId": "5f02513c-a9bd-46fe-f380-7af716defd79"
      },
      "source": [
        "import pandas as pd, numpy as np\n",
        "import re, nltk\n",
        "from string import punctuation\n",
        "from nltk.stem import PorterStemmer\n",
        "from nltk.stem.wordnet import WordNetLemmatizer\n",
        "from sklearn.feature_extraction.text import CountVectorizer\n",
        "from sklearn.decomposition import LatentDirichletAllocation\n",
        "from nltk.stem import PorterStemmer\n",
        "from nltk.stem.wordnet import WordNetLemmatizer\n",
        "from nltk.corpus import stopwords\n",
        "from nltk.tokenize import sent_tokenize, word_tokenize\n",
        "!pip install mglearn\n",
        "import mglearn as mg \n",
        "import warnings\n",
        "warnings.filterwarnings('ignore')\n",
        "\n",
        "# Loading the dataset\n",
        "data = pd.read_csv('abcnews-date-text.csv', error_bad_lines=False);\n",
        "data_text = data[['headline_text']]\n",
        "documents = data_text\n",
        "\n"
      ],
      "execution_count": 2,
      "outputs": [
        {
          "output_type": "stream",
          "text": [
            "Requirement already satisfied: mglearn in /usr/local/lib/python3.6/dist-packages (0.1.7)\n",
            "Requirement already satisfied: matplotlib in /usr/local/lib/python3.6/dist-packages (from mglearn) (3.1.2)\n",
            "Requirement already satisfied: pillow in /usr/local/lib/python3.6/dist-packages (from mglearn) (6.2.2)\n",
            "Requirement already satisfied: cycler in /usr/local/lib/python3.6/dist-packages (from mglearn) (0.10.0)\n",
            "Requirement already satisfied: scikit-learn in /usr/local/lib/python3.6/dist-packages (from mglearn) (0.22.1)\n",
            "Requirement already satisfied: pandas in /usr/local/lib/python3.6/dist-packages (from mglearn) (0.25.3)\n",
            "Requirement already satisfied: numpy in /usr/local/lib/python3.6/dist-packages (from mglearn) (1.17.5)\n",
            "Requirement already satisfied: imageio in /usr/local/lib/python3.6/dist-packages (from mglearn) (2.4.1)\n",
            "Requirement already satisfied: kiwisolver>=1.0.1 in /usr/local/lib/python3.6/dist-packages (from matplotlib->mglearn) (1.1.0)\n",
            "Requirement already satisfied: pyparsing!=2.0.4,!=2.1.2,!=2.1.6,>=2.0.1 in /usr/local/lib/python3.6/dist-packages (from matplotlib->mglearn) (2.4.6)\n",
            "Requirement already satisfied: python-dateutil>=2.1 in /usr/local/lib/python3.6/dist-packages (from matplotlib->mglearn) (2.6.1)\n",
            "Requirement already satisfied: six in /usr/local/lib/python3.6/dist-packages (from cycler->mglearn) (1.12.0)\n",
            "Requirement already satisfied: scipy>=0.17.0 in /usr/local/lib/python3.6/dist-packages (from scikit-learn->mglearn) (1.4.1)\n",
            "Requirement already satisfied: joblib>=0.11 in /usr/local/lib/python3.6/dist-packages (from scikit-learn->mglearn) (0.14.1)\n",
            "Requirement already satisfied: pytz>=2017.2 in /usr/local/lib/python3.6/dist-packages (from pandas->mglearn) (2018.9)\n",
            "Requirement already satisfied: setuptools in /usr/local/lib/python3.6/dist-packages (from kiwisolver>=1.0.1->matplotlib->mglearn) (42.0.2)\n"
          ],
          "name": "stdout"
        }
      ]
    },
    {
      "cell_type": "code",
      "metadata": {
        "id": "tham6_kgJaGG",
        "colab_type": "code",
        "colab": {}
      },
      "source": [
        "#Analyse the data\n",
        "#..................\n",
        "\n",
        "# Define functions to sanitize the data\n",
        "# 2. Check the hygiene of data and sanitize it.\n",
        "#............................\n",
        "\n",
        "def remove(df):\n",
        "    newdf=[]\n",
        "    regex = re.compile('[^a-zA-Z ]')\n",
        "    for i in range(len(df)):\n",
        "        temp=df[i][0]\n",
        "        temp = regex.sub('', temp)\n",
        "        newdf.append(temp)\n",
        "    return newdf\n",
        "\n",
        "newdf=documents.values.tolist()\n",
        "newdf=remove(newdf)"
      ],
      "execution_count": 0,
      "outputs": []
    },
    {
      "cell_type": "code",
      "metadata": {
        "id": "_ejB8ATIJaGM",
        "colab_type": "code",
        "colab": {}
      },
      "source": [
        "# Vectorize the data and create a Document Term Matrix (DTM)\n",
        "# 3. Create DTM using following parameters:\n",
        "#max_df=0.95 min_df=2,max_features=1000,ngram_range = (1,2),stop_words='english'\n",
        "#...........................\n",
        "\n",
        "vectorizer=CountVectorizer(max_df=0.95, min_df=2,max_features=1000,ngram_range = (1,2),stop_words='english')\n",
        "X = vectorizer.fit_transform(newdf)\n",
        "#print(X)\n",
        "xx=(X.toarray())\n",
        "#print(xx)"
      ],
      "execution_count": 0,
      "outputs": []
    },
    {
      "cell_type": "code",
      "metadata": {
        "id": "gtWST0ROJaGQ",
        "colab_type": "code",
        "colab": {
          "base_uri": "https://localhost:8080/",
          "height": 153
        },
        "outputId": "b7f8cc86-dc16-4583-f454-ae9312741573"
      },
      "source": [
        "\n",
        "# Fit a LDA model on Document Term Matrix created above\n",
        "#4. Fit a LDA model with 5 components\n",
        "#n_components=5\n",
        "#...........................\n",
        "\n",
        "lda = LatentDirichletAllocation(n_components=5)\n",
        "lda.fit(xx)\n",
        "#lda.transform(X[-2:])\n"
      ],
      "execution_count": 5,
      "outputs": [
        {
          "output_type": "execute_result",
          "data": {
            "text/plain": [
              "LatentDirichletAllocation(batch_size=128, doc_topic_prior=None,\n",
              "                          evaluate_every=-1, learning_decay=0.7,\n",
              "                          learning_method='batch', learning_offset=10.0,\n",
              "                          max_doc_update_iter=100, max_iter=10,\n",
              "                          mean_change_tol=0.001, n_components=5, n_jobs=None,\n",
              "                          perp_tol=0.1, random_state=None,\n",
              "                          topic_word_prior=None, total_samples=1000000.0,\n",
              "                          verbose=0)"
            ]
          },
          "metadata": {
            "tags": []
          },
          "execution_count": 5
        }
      ]
    },
    {
      "cell_type": "code",
      "metadata": {
        "id": "qxJT5TtIJaGX",
        "colab_type": "code",
        "colab": {
          "base_uri": "https://localhost:8080/",
          "height": 510
        },
        "outputId": "d3304972-b30b-450a-dab9-b061584cd148"
      },
      "source": [
        "\n",
        "\n",
        "# Vizualize the topics generated\n",
        "#5. Create a report\n",
        " \n",
        "sorting = np.argsort(lda.components_)[:,::-1] \n",
        "features = np.array(vectorizer.get_feature_names()) \n",
        "mg.tools.print_topics(topics=range(5), feature_names=features, sorting=sorting, topics_per_chunk=5, n_words=25)\n"
      ],
      "execution_count": 6,
      "outputs": [
        {
          "output_type": "stream",
          "text": [
            "topic 0       topic 1       topic 2       topic 3       topic 4       \n",
            "--------      --------      --------      --------      --------      \n",
            "new           nsw           govt          man           says          \n",
            "interview     qld           water         court         police        \n",
            "australia     charged       calls         police        council       \n",
            "day           sydney        urged         report        death         \n",
            "world         police        set           crash         health        \n",
            "cup           home          talks         coast         hospital      \n",
            "market        child         plans         killed        minister      \n",
            "australian    indigenous    china         accused       wa            \n",
            "deal          government    dead          murder        mp            \n",
            "test          workers       rise          missing       power         \n",
            "work          south         iraq          woman         sa            \n",
            "industry      west          ban           wins          plan          \n",
            "gets          north         boost         dies          probe         \n",
            "news          business      house         face          drug          \n",
            "years         changes       win           pm            jailed        \n",
            "change        union         inquiry       gold          takes         \n",
            "pay           rural         abc           charges       car           \n",
            "rain          concerns      defends       country       future        \n",
            "chief         sex           labor         search        jobs          \n",
            "bid           farmers       group         record        mining        \n",
            "price         tax           funds         melbourne     road          \n",
            "year          laws          port          guilty        court         \n",
            "tour          return        end           open          appeal        \n",
            "second        fears         urges         big           warning       \n",
            "run           cuts          adelaide      family        hit           \n",
            "\n",
            "\n"
          ],
          "name": "stdout"
        }
      ]
    },
    {
      "cell_type": "code",
      "metadata": {
        "id": "hC6kB5KOJaGd",
        "colab_type": "code",
        "colab": {}
      },
      "source": [
        ""
      ],
      "execution_count": 0,
      "outputs": []
    },
    {
      "cell_type": "code",
      "metadata": {
        "id": "4wJBWpP5JaGi",
        "colab_type": "code",
        "colab": {}
      },
      "source": [
        ""
      ],
      "execution_count": 0,
      "outputs": []
    },
    {
      "cell_type": "code",
      "metadata": {
        "id": "qq1hwMgWJaGm",
        "colab_type": "code",
        "colab": {}
      },
      "source": [
        ""
      ],
      "execution_count": 0,
      "outputs": []
    },
    {
      "cell_type": "code",
      "metadata": {
        "id": "gxqjWtGiJaGr",
        "colab_type": "code",
        "colab": {}
      },
      "source": [
        ""
      ],
      "execution_count": 0,
      "outputs": []
    },
    {
      "cell_type": "code",
      "metadata": {
        "id": "tUEdHGyWJaGw",
        "colab_type": "code",
        "colab": {}
      },
      "source": [
        ""
      ],
      "execution_count": 0,
      "outputs": []
    },
    {
      "cell_type": "code",
      "metadata": {
        "id": "wCghVZ70JaG0",
        "colab_type": "code",
        "colab": {}
      },
      "source": [
        ""
      ],
      "execution_count": 0,
      "outputs": []
    },
    {
      "cell_type": "code",
      "metadata": {
        "id": "rKoiiI0eJaG5",
        "colab_type": "code",
        "colab": {}
      },
      "source": [
        ""
      ],
      "execution_count": 0,
      "outputs": []
    },
    {
      "cell_type": "code",
      "metadata": {
        "id": "fN0Osea5JaHB",
        "colab_type": "code",
        "colab": {}
      },
      "source": [
        ""
      ],
      "execution_count": 0,
      "outputs": []
    }
  ]
}